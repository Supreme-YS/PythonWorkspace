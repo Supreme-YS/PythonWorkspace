{
  "nbformat": 4,
  "nbformat_minor": 0,
  "metadata": {
    "colab": {
      "name": "codeup_compile_note.ipynb",
      "provenance": [],
      "authorship_tag": "ABX9TyNjB2bUA53sgzLTOKKIBQ6w",
      "include_colab_link": true
    },
    "kernelspec": {
      "name": "python3",
      "display_name": "Python 3"
    }
  },
  "cells": [
    {
      "cell_type": "markdown",
      "metadata": {
        "id": "view-in-github",
        "colab_type": "text"
      },
      "source": [
        "<a href=\"https://colab.research.google.com/github/Supreme-YS/python_programming/blob/main/codeup_compile_note.ipynb\" target=\"_parent\"><img src=\"https://colab.research.google.com/assets/colab-badge.svg\" alt=\"Open In Colab\"/></a>"
      ]
    },
    {
      "cell_type": "code",
      "metadata": {
        "colab": {
          "base_uri": "https://localhost:8080/"
        },
        "id": "XX_MZkRXDn8M",
        "outputId": "f380d58a-721e-4ba2-eff2-b74b22e19cd4"
      },
      "source": [
        "c = input()\r\n",
        "print(c)"
      ],
      "execution_count": 25,
      "outputs": [
        {
          "output_type": "stream",
          "text": [
            "a\n",
            "a\n"
          ],
          "name": "stdout"
        }
      ]
    },
    {
      "cell_type": "code",
      "metadata": {
        "colab": {
          "base_uri": "https://localhost:8080/"
        },
        "id": "MvpVZX3PEhuS",
        "outputId": "f0154f82-f3f2-4c66-d2c2-ade21f632e61"
      },
      "source": [
        "integer = input()\r\n",
        "print(integer)"
      ],
      "execution_count": 26,
      "outputs": [
        {
          "output_type": "stream",
          "text": [
            "1\n",
            "1\n"
          ],
          "name": "stdout"
        }
      ]
    },
    {
      "cell_type": "code",
      "metadata": {
        "colab": {
          "base_uri": "https://localhost:8080/"
        },
        "id": "WsfbSVZaEvN4",
        "outputId": "4548c548-2608-4cff-ef83-f14947218b13"
      },
      "source": [
        "f = input()\r\n",
        "print(f)"
      ],
      "execution_count": 27,
      "outputs": [
        {
          "output_type": "stream",
          "text": [
            "1.4555\n",
            "1.4555\n"
          ],
          "name": "stdout"
        }
      ]
    },
    {
      "cell_type": "code",
      "metadata": {
        "colab": {
          "base_uri": "https://localhost:8080/"
        },
        "id": "1NlPiVs5E7LX",
        "outputId": "9160eb67-7d1b-47a8-9848-38afe99c6d0f"
      },
      "source": [
        "f, b = input().split('-')\r\n",
        "print(f+b)"
      ],
      "execution_count": 39,
      "outputs": [
        {
          "output_type": "stream",
          "text": [
            "123456-1234567\n",
            "1234561234567\n"
          ],
          "name": "stdout"
        }
      ]
    },
    {
      "cell_type": "code",
      "metadata": {
        "colab": {
          "base_uri": "https://localhost:8080/"
        },
        "id": "TXIHrMYEHrRc",
        "outputId": "c0ec4a3c-3652-476d-eb49-f97f3a29c8f7"
      },
      "source": [
        "s = input()\r\n",
        "print(s[0:2], s[2:4], s[4:6])\r\n",
        "\r\n"
      ],
      "execution_count": 43,
      "outputs": [
        {
          "output_type": "stream",
          "text": [
            "930125\n",
            "93 01 25\n",
            "\n",
            "\n"
          ],
          "name": "stdout"
        }
      ]
    },
    {
      "cell_type": "code",
      "metadata": {
        "colab": {
          "base_uri": "https://localhost:8080/"
        },
        "id": "J4Cd4MCoFpm-",
        "outputId": "0925486d-0917-47cb-828f-3120e8bf773d"
      },
      "source": [
        "h, m, s = input().split(':')\r\n",
        "print(m)"
      ],
      "execution_count": 44,
      "outputs": [
        {
          "output_type": "stream",
          "text": [
            "12:23:34\n",
            "23\n"
          ],
          "name": "stdout"
        }
      ]
    },
    {
      "cell_type": "code",
      "metadata": {
        "colab": {
          "base_uri": "https://localhost:8080/"
        },
        "id": "2aGHHM65IU_E",
        "outputId": "70dc1af9-b205-41e7-e48c-faf72780b42f"
      },
      "source": [
        "a = input() # 문자열상태\r\n",
        "n = int(a) # int로 casting\r\n",
        "print('%x'% n) #n에 저장되어 잇는 값을 16진수 소문자 형태 문자열로 출력"
      ],
      "execution_count": 55,
      "outputs": [
        {
          "output_type": "stream",
          "text": [
            "255\n",
            "ff\n"
          ],
          "name": "stdout"
        }
      ]
    },
    {
      "cell_type": "code",
      "metadata": {
        "colab": {
          "base_uri": "https://localhost:8080/"
        },
        "id": "4xwx4iQxIgAW",
        "outputId": "9a18e889-cba5-4e20-9d73-e117d5811661"
      },
      "source": [
        "a = input() # 문자열상태\r\n",
        "n = int(a) # int로 casting\r\n",
        "print('%X'% n) #n에 저장되어 잇는 값을 16진수 소문자 형태 문자열로 출력"
      ],
      "execution_count": 56,
      "outputs": [
        {
          "output_type": "stream",
          "text": [
            "255\n",
            "FF\n"
          ],
          "name": "stdout"
        }
      ]
    },
    {
      "cell_type": "code",
      "metadata": {
        "colab": {
          "base_uri": "https://localhost:8080/"
        },
        "id": "hWy6_21OPsvk",
        "outputId": "7630474a-0a52-425d-f091-a3994484cb82"
      },
      "source": [
        "a = input() # 문자열상태\r\n",
        "n = int(a, 16) # a를 16진수로 인식해 변수 n에 저장하기.\r\n",
        "print('%o'% n) # n에 저장되어 있는 값을 8진수 형태 문자열로 출력"
      ],
      "execution_count": 57,
      "outputs": [
        {
          "output_type": "stream",
          "text": [
            "f\n",
            "17\n"
          ],
          "name": "stdout"
        }
      ]
    },
    {
      "cell_type": "code",
      "metadata": {
        "colab": {
          "base_uri": "https://localhost:8080/"
        },
        "id": "vF_0mUDhQC-1",
        "outputId": "d2c0491a-a9ae-4a4f-de90-bf3630b13c3a"
      },
      "source": [
        "# 문자 -> 10진수로 ord!\r\n",
        "\r\n",
        "a = ord(input())\r\n",
        "print(a)"
      ],
      "execution_count": 59,
      "outputs": [
        {
          "output_type": "stream",
          "text": [
            "A\n",
            "65\n"
          ],
          "name": "stdout"
        }
      ]
    },
    {
      "cell_type": "code",
      "metadata": {
        "colab": {
          "base_uri": "https://localhost:8080/"
        },
        "id": "xJH_HbZrQNRu",
        "outputId": "c01ac883-6a82-4a33-ea07-70163ea6a544"
      },
      "source": [
        "# 10 진수 -> unicode\r\n",
        "\r\n",
        "c = int(input())\r\n",
        "\r\n",
        "print(chr(c))"
      ],
      "execution_count": 61,
      "outputs": [
        {
          "output_type": "stream",
          "text": [
            "65\n",
            "A\n"
          ],
          "name": "stdout"
        }
      ]
    },
    {
      "cell_type": "code",
      "metadata": {
        "colab": {
          "base_uri": "https://localhost:8080/"
        },
        "id": "j99wn3OkQdxI",
        "outputId": "2223a161-d127-479c-8de7-6eedb8019b77"
      },
      "source": [
        "c = ord(input())\r\n",
        "print(chr(c+1))"
      ],
      "execution_count": 69,
      "outputs": [
        {
          "output_type": "stream",
          "text": [
            "a\n",
            "b\n"
          ],
          "name": "stdout"
        }
      ]
    },
    {
      "cell_type": "code",
      "metadata": {
        "colab": {
          "base_uri": "https://localhost:8080/"
        },
        "id": "gl30rYvxQ607",
        "outputId": "1f255ff4-2820-45a4-b480-4c19c4c4f0f0"
      },
      "source": [
        "a, b = input().split()\r\n",
        "c = int(a) - int(b)\r\n",
        "\r\n",
        "print(c)"
      ],
      "execution_count": 74,
      "outputs": [
        {
          "output_type": "stream",
          "text": [
            "123 -123\n",
            "246\n"
          ],
          "name": "stdout"
        }
      ]
    },
    {
      "cell_type": "code",
      "metadata": {
        "colab": {
          "base_uri": "https://localhost:8080/"
        },
        "id": "kVMmI6BER9Lp",
        "outputId": "51baf299-2a70-46e5-c562-b23779295eb4"
      },
      "source": [
        "f1, f2 = input().split()\r\n",
        "m = float(f1) * float(f2)\r\n",
        "\r\n",
        "print(m)"
      ],
      "execution_count": 78,
      "outputs": [
        {
          "output_type": "stream",
          "text": [
            "1.2 3.88\n",
            "4.656\n"
          ],
          "name": "stdout"
        }
      ]
    },
    {
      "cell_type": "code",
      "metadata": {
        "colab": {
          "base_uri": "https://localhost:8080/"
        },
        "id": "ni-xFXm0SNwn",
        "outputId": "a381b5a7-350e-4787-ab8b-4487eccd2f8c"
      },
      "source": [
        "w, n = input().split()\r\n",
        "n = int(n)\r\n",
        "print(w * n, end='')"
      ],
      "execution_count": 80,
      "outputs": [
        {
          "output_type": "stream",
          "text": [
            "love 3\n",
            "lovelovelove"
          ],
          "name": "stdout"
        }
      ]
    },
    {
      "cell_type": "code",
      "metadata": {
        "colab": {
          "base_uri": "https://localhost:8080/"
        },
        "id": "5WU4c0mTTFLU",
        "outputId": "cd68589e-50d9-46fa-cc57-28377341a6ba"
      },
      "source": [
        "a, b = input().split()\r\n",
        "c = float(a)**float(b)\r\n",
        "print(c)"
      ],
      "execution_count": 82,
      "outputs": [
        {
          "output_type": "stream",
          "text": [
            "1.4 9.2\n",
            "22.099270013507446\n"
          ],
          "name": "stdout"
        }
      ]
    },
    {
      "cell_type": "code",
      "metadata": {
        "colab": {
          "base_uri": "https://localhost:8080/"
        },
        "id": "24Il5xyKUpph",
        "outputId": "1d6f9e9c-bc34-4e57-b471-5028e7c773e8"
      },
      "source": [
        "a = int(input())\r\n",
        "\r\n",
        "if a == 0 :\r\n",
        "    print(False)\r\n",
        "else:\r\n",
        "    print(True)"
      ],
      "execution_count": 106,
      "outputs": [
        {
          "output_type": "stream",
          "text": [
            "123\n",
            "True\n"
          ],
          "name": "stdout"
        }
      ]
    },
    {
      "cell_type": "code",
      "metadata": {
        "colab": {
          "base_uri": "https://localhost:8080/"
        },
        "id": "Fh3Y4Za_VApw",
        "outputId": "5d05f2a6-515f-457d-9622-29138eddc0f4"
      },
      "source": [
        "a = bool(int(input()))\r\n",
        "print(not a)"
      ],
      "execution_count": 108,
      "outputs": [
        {
          "output_type": "stream",
          "text": [
            "0\n",
            "True\n"
          ],
          "name": "stdout"
        }
      ]
    },
    {
      "cell_type": "code",
      "metadata": {
        "colab": {
          "base_uri": "https://localhost:8080/"
        },
        "id": "sb3kyC2dZY0a",
        "outputId": "0f791df8-adc7-4f9b-f4f9-9a16cfc04512"
      },
      "source": [
        "a, b = map(int, input().split())\r\n",
        "c = (a if (a >= b) else b)\r\n",
        "print(c)"
      ],
      "execution_count": 125,
      "outputs": [
        {
          "output_type": "stream",
          "text": [
            "10 20\n",
            "20\n"
          ],
          "name": "stdout"
        }
      ]
    },
    {
      "cell_type": "code",
      "metadata": {
        "colab": {
          "base_uri": "https://localhost:8080/"
        },
        "id": "kz1IL2BaZpJR",
        "outputId": "bcb44f14-6630-4a11-947d-8a4e0b0504cf"
      },
      "source": [
        "a, b, c = map(int, input().split())\r\n",
        "\r\n",
        "min_val = (a if a < b else b) if ((a if a < b else b) < c) else c\r\n",
        "print(min_val)"
      ],
      "execution_count": 131,
      "outputs": [
        {
          "output_type": "stream",
          "text": [
            "3 -1 5\n",
            "-1\n"
          ],
          "name": "stdout"
        }
      ]
    },
    {
      "cell_type": "code",
      "metadata": {
        "colab": {
          "base_uri": "https://localhost:8080/"
        },
        "id": "7rHd2A6fdUDj",
        "outputId": "3f0f3614-3b48-4987-db5e-09a4ce3e0dfc"
      },
      "source": [
        "a, b, c = map(int, input().split())\r\n",
        "\r\n",
        "if a % 2 == 0:\r\n",
        "    print('even')\r\n",
        "else:\r\n",
        "    print('odd')\r\n",
        "\r\n",
        "if b % 2 == 0:\r\n",
        "    print('even')\r\n",
        "else:\r\n",
        "    print('odd')\r\n",
        "\r\n",
        "if c % 2 == 0:\r\n",
        "    print('even')\r\n",
        "else:\r\n",
        "    print('odd')"
      ],
      "execution_count": 133,
      "outputs": [
        {
          "output_type": "stream",
          "text": [
            "10 9 7\n",
            "even\n",
            "odd\n",
            "odd\n"
          ],
          "name": "stdout"
        }
      ]
    },
    {
      "cell_type": "code",
      "metadata": {
        "colab": {
          "base_uri": "https://localhost:8080/"
        },
        "id": "GQ3EtxE6fBw6",
        "outputId": "260c517b-2f53-457a-a0b3-3d16d0da48a1"
      },
      "source": [
        "month = int(input())\r\n",
        "\r\n",
        "if month // 3 == 1:\r\n",
        "    print('spring')\r\n",
        "elif month // 3 ==2 :\r\n",
        "    print('summer')\r\n",
        "elif month // 3 ==3 :\r\n",
        "    print('fall')\r\n",
        "else:\r\n",
        "    print('winter')"
      ],
      "execution_count": 144,
      "outputs": [
        {
          "output_type": "stream",
          "text": [
            "12\n",
            "winter\n"
          ],
          "name": "stdout"
        }
      ]
    },
    {
      "cell_type": "code",
      "metadata": {
        "colab": {
          "base_uri": "https://localhost:8080/"
        },
        "id": "E73ByUlwgRxM",
        "outputId": "b440d0f4-07d7-4ab1-9724-189b10e60093"
      },
      "source": [
        "n = 1 \r\n",
        "\r\n",
        "while n != 0 :\r\n",
        "    n = int(input())\r\n",
        "    if n!= 0 :\r\n",
        "        print(n)\r\n",
        "    else:\r\n",
        "        break"
      ],
      "execution_count": 146,
      "outputs": [
        {
          "output_type": "stream",
          "text": [
            "2\n",
            "2\n",
            "5\n",
            "5\n",
            "0\n"
          ],
          "name": "stdout"
        }
      ]
    },
    {
      "cell_type": "code",
      "metadata": {
        "colab": {
          "base_uri": "https://localhost:8080/"
        },
        "id": "Dvgwq31ghiqM",
        "outputId": "7ab8c855-23d8-46eb-c58d-3218a420b382"
      },
      "source": [
        "s = ord(input())\r\n",
        "t = 'q'\r\n",
        "\r\n",
        "while True :\r\n",
        "    if chr(s) != t :\r\n",
        "        print(chr(s))\r\n",
        "        s = ord(input())\r\n",
        "    else:\r\n",
        "        print(chr(s))\r\n",
        "        break\r\n",
        "        \r\n",
        "    "
      ],
      "execution_count": 181,
      "outputs": [
        {
          "output_type": "stream",
          "text": [
            "x\n",
            "x\n",
            "q\n",
            "q\n"
          ],
          "name": "stdout"
        }
      ]
    },
    {
      "cell_type": "code",
      "metadata": {
        "colab": {
          "base_uri": "https://localhost:8080/"
        },
        "id": "tzQb61tnh8Fn",
        "outputId": "25cf5a20-3cde-4215-db87-82635ecfa97e"
      },
      "source": [
        "a = int(input())\r\n",
        "sum = 0\r\n",
        "\r\n",
        "for i in range(0, a):\r\n",
        "    if sum < a :\r\n",
        "        sum = sum + i\r\n",
        "    else:\r\n",
        "        print(i-1)\r\n",
        "        break"
      ],
      "execution_count": 191,
      "outputs": [
        {
          "output_type": "stream",
          "text": [
            "55\n",
            "10\n"
          ],
          "name": "stdout"
        }
      ]
    },
    {
      "cell_type": "code",
      "metadata": {
        "colab": {
          "base_uri": "https://localhost:8080/"
        },
        "id": "tj_bQSK7o8Jn",
        "outputId": "d9c64d0a-ec09-4852-f234-954e7fd0b156"
      },
      "source": [
        "# 1부터 n까지 주사위, 1부터 m까지 주사위\r\n",
        "\r\n",
        "n, m = map(int, input().split())\r\n",
        "\r\n",
        "for i in range(1, n+1):\r\n",
        "    for j in range(1, m+1):\r\n",
        "        print(i, j)"
      ],
      "execution_count": 192,
      "outputs": [
        {
          "output_type": "stream",
          "text": [
            "2 3\n",
            "1 1\n",
            "1 2\n",
            "1 3\n",
            "2 1\n",
            "2 2\n",
            "2 3\n"
          ],
          "name": "stdout"
        }
      ]
    },
    {
      "cell_type": "code",
      "metadata": {
        "colab": {
          "base_uri": "https://localhost:8080/"
        },
        "id": "aPHqm1NcrKmE",
        "outputId": "c3fa4a7c-31b6-44cb-8640-c01bc4f0f76f"
      },
      "source": [
        "n = int(input(), 16)\r\n",
        "\r\n",
        "for i in range(1, 16):\r\n",
        "    print('%X*%X=%X' %(n, i, n*i))"
      ],
      "execution_count": 199,
      "outputs": [
        {
          "output_type": "stream",
          "text": [
            "B\n",
            "B*1=B\n",
            "B*2=16\n",
            "B*3=21\n",
            "B*4=2C\n",
            "B*5=37\n",
            "B*6=42\n",
            "B*7=4D\n",
            "B*8=58\n",
            "B*9=63\n",
            "B*A=6E\n",
            "B*B=79\n",
            "B*C=84\n",
            "B*D=8F\n",
            "B*E=9A\n",
            "B*F=A5\n"
          ],
          "name": "stdout"
        }
      ]
    },
    {
      "cell_type": "code",
      "metadata": {
        "colab": {
          "base_uri": "https://localhost:8080/"
        },
        "id": "K3P05UT_rvwc",
        "outputId": "30227a64-51e6-4157-d431-b315f49b83b2"
      },
      "source": [
        "num = input()\r\n",
        "\r\n",
        "for i in range(1, int(num)+ 1):\r\n",
        "    if '3' in str(i) or '6' in str(i) or '9' in str(i):\r\n",
        "        print('X', end=' ')\r\n",
        "    else :\r\n",
        "        print(str(i), end=' ')"
      ],
      "execution_count": 207,
      "outputs": [
        {
          "output_type": "stream",
          "text": [
            "23\n",
            "1 2 X 4 5 X 7 8 X 10 11 12 X 14 15 X 17 18 X 20 21 22 X "
          ],
          "name": "stdout"
        }
      ]
    },
    {
      "cell_type": "code",
      "metadata": {
        "colab": {
          "base_uri": "https://localhost:8080/"
        },
        "id": "zrEFOlVstxh4",
        "outputId": "b8e75df7-5f65-437f-c43e-79a48b9265ae"
      },
      "source": [
        "r, g, b = map(int, input().split())\r\n",
        "\r\n",
        "for i in range(r):\r\n",
        "    for j in range(g):\r\n",
        "        for k in range(b):\r\n",
        "            print(i, j, k)\r\n",
        "            \r\n",
        "print(r * g * b)"
      ],
      "execution_count": 210,
      "outputs": [
        {
          "output_type": "stream",
          "text": [
            "2 2 2\n",
            "0 0 0\n",
            "0 0 1\n",
            "0 1 0\n",
            "0 1 1\n",
            "1 0 0\n",
            "1 0 1\n",
            "1 1 0\n",
            "1 1 1\n",
            "8\n"
          ],
          "name": "stdout"
        }
      ]
    },
    {
      "cell_type": "code",
      "metadata": {
        "colab": {
          "base_uri": "https://localhost:8080/"
        },
        "id": "wQnWkUZGvFy9",
        "outputId": "74525b5d-6852-4652-906d-62c07d39c9bc"
      },
      "source": [
        "h, b, c, s = map(int, input().split())\r\n",
        "\r\n",
        "print(round((h * b * c * s) / 8/ 1024 / 1024, 1), \"MB\")"
      ],
      "execution_count": 215,
      "outputs": [
        {
          "output_type": "stream",
          "text": [
            "44100 16 2 10\n",
            "1.7  MB\n"
          ],
          "name": "stdout"
        }
      ]
    },
    {
      "cell_type": "code",
      "metadata": {
        "id": "t45b9Jc6w8Jt"
      },
      "source": [
        ""
      ],
      "execution_count": null,
      "outputs": []
    }
  ]
}